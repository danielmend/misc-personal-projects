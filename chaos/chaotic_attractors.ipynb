{
 "cells": [
  {
   "cell_type": "markdown",
   "id": "8a214f8a-6448-49fa-87d4-8770af09caa9",
   "metadata": {},
   "source": [
    "# Generation and animation of chaotic attractors\n",
    "\n",
    "This notebook finds and animates equations governing systems of differential equations called [chaotic attractors](https://en.wikipedia.org/wiki/Attractor). Sample outputs can be found in the output folder."
   ]
  },
  {
   "cell_type": "markdown",
   "id": "1b7ca3ec-61bb-474e-afa2-f387979deab2",
   "metadata": {},
   "source": [
    "### Imports"
   ]
  },
  {
   "cell_type": "code",
   "execution_count": 3,
   "id": "6651ce08-8b1e-429f-9a15-317e1d691e82",
   "metadata": {},
   "outputs": [],
   "source": [
    "import numpy as np\n",
    "import matplotlib.pyplot as plt\n",
    "import mpl_toolkits.mplot3d.axes3d as p3\n",
    "import matplotlib.animation as animation\n",
    "import math"
   ]
  },
  {
   "cell_type": "markdown",
   "id": "399bca67-004b-44f3-910f-addbbb349fcb",
   "metadata": {},
   "source": [
    "### Helper functions"
   ]
  },
  {
   "cell_type": "code",
   "execution_count": 4,
   "id": "5aa174f8-de44-412c-8587-16b2618595ee",
   "metadata": {},
   "outputs": [],
   "source": [
    "def quadratic_map(x, y, z, params, dt=0.0005):\n",
    "    '''\n",
    "    Given coordinates and a tuple of coefficients for each differential equation, compute and return \n",
    "    one simulated timestep of movement.\n",
    "    '''\n",
    "    quad_coeffs = [x, x**2, y, y**2, z, z**2, x*y, x*z, y*z, 1]\n",
    "    alpha, beta, gamma = params\n",
    "    \n",
    "    dx = np.dot(quad_coeffs, alpha)\n",
    "    dy = np.dot(quad_coeffs, beta)\n",
    "    dz = np.dot(quad_coeffs, gamma)\n",
    "    \n",
    "    return x+(dx*dt), y+(dy*dt), z+(dz*dt)"
   ]
  },
  {
   "cell_type": "code",
   "execution_count": 5,
   "id": "3cb537db-8ce4-44ed-b211-0dff8973c665",
   "metadata": {},
   "outputs": [],
   "source": [
    "def compute_camera(num, scaling_factor=0.75):\n",
    "    '''\n",
    "    Compute and return the angle and elevation of the camera for a given timestep\n",
    "    '''\n",
    "    angle = (num*scaling_factor)%360\n",
    "    ele = 2*np.sin(angle*math.pi/180)+10\n",
    "    \n",
    "    return (angle, ele)"
   ]
  },
  {
   "cell_type": "code",
   "execution_count": 6,
   "id": "ea5e3590-7ffd-42a3-bdc5-7c1aa99e5e84",
   "metadata": {},
   "outputs": [],
   "source": [
    "def gen_rand_color():\n",
    "    '''\n",
    "    Generate random color for visualization\n",
    "    '''\n",
    "    #pinkish color\n",
    "    r = 0.75+np.random.uniform(-0.1,0.1)\n",
    "    g = 0.2+np.random.uniform(-0.2,0.2)\n",
    "    b = np.random.uniform(0.5,0.7)\n",
    "    a = np.random.uniform(0.3,0.8)\n",
    "    \n",
    "    l_color = [r,g,b,a]\n",
    "    \n",
    "    return l_color"
   ]
  },
  {
   "cell_type": "code",
   "execution_count": 7,
   "id": "5136a377-288c-4ed8-96cc-728b977ec9a4",
   "metadata": {},
   "outputs": [],
   "source": [
    "def gen_random_coeffs(low=-1.0, high=1.0):\n",
    "    '''\n",
    "    Given a min and max value, randomly generate and return a tuple of coefficients for x, y, and z.\n",
    "    '''\n",
    "    alpha = np.random.uniform(size=(10,), low=low, high=high)\n",
    "    beta = np.random.uniform(size=(10,), low=low, high=high)\n",
    "    gamma = np.random.uniform(size=(10,), low=low, high=high)\n",
    "    \n",
    "    return (alpha, beta, gamma)"
   ]
  },
  {
   "cell_type": "code",
   "execution_count": 13,
   "id": "c8c4c931-174d-4f88-8da3-070b9aecbc5a",
   "metadata": {},
   "outputs": [],
   "source": [
    "def compute_distances(data, cutoff=100):\n",
    "    '''\n",
    "    Find and return the distances of each point in data from the origin between t=0 and t=cutoff\n",
    "    '''\n",
    "    dists = []\n",
    "    \n",
    "    for dat in data[0:cutoff]:\n",
    "        \n",
    "        transposed = dat.transpose()\n",
    "        current_dists = [np.linalg.norm(transposed[i,:]) for i in range(len(transposed))]\n",
    "        \n",
    "        dists.append(current_dists)\n",
    "            \n",
    "    return dists"
   ]
  },
  {
   "cell_type": "code",
   "execution_count": 14,
   "id": "42b7627b-4d2c-4fad-8963-68c086e1d0bc",
   "metadata": {},
   "outputs": [],
   "source": [
    "def gen_lorenz(length, params=None, dims=3, init_spread=10.0):\n",
    "    '''\n",
    "    Generate and return the position of a particle given a number of timesteps and a set of equations.\n",
    "    '''\n",
    "    line_data = np.empty((dims, length))\n",
    "    line_data[:, 0] = np.random.normal(size=(dims,), scale=init_spread)\n",
    "    \n",
    "    for index in range(1, length):\n",
    "        \n",
    "        x, y, z = line_data[:,index-1]\n",
    "        x_prime, y_prime, z_prime = quadratic_map(x, y, z, params)\n",
    "        \n",
    "        line_data[:, index] = (x_prime, y_prime, z_prime)\n",
    "\n",
    "    return line_data\n",
    "\n",
    "\n",
    "def update_lines(num, dataLines, lines, window=150):\n",
    "    '''\n",
    "    Plot particles in a system with a tail. Window specifies how long the tail of each particle is\n",
    "    '''\n",
    "    for line, data in zip(lines, dataLines):\n",
    "        \n",
    "        angle, ele = compute_camera(num)\n",
    "        ax.view_init(elev=ele, azim=angle)\n",
    "        \n",
    "        if num>window:\n",
    "            start = num-window\n",
    "        else:\n",
    "            start=0\n",
    "            \n",
    "        line.set_data(data[0:2, start:num])\n",
    "        line.set_3d_properties(data[2, start:num])\n",
    "        \n",
    "    return lines\n"
   ]
  },
  {
   "cell_type": "markdown",
   "id": "fa2c89bd-d7d0-4b86-836a-bf10c365fc9d",
   "metadata": {},
   "source": [
    "### Actually find the chaotic attractor"
   ]
  },
  {
   "cell_type": "code",
   "execution_count": 15,
   "id": "c2412756-e5b2-4b17-9878-2c20d350248f",
   "metadata": {},
   "outputs": [],
   "source": [
    "def gen_data(num_frames, num_gen, seed=None, dims=3, eps=1e4):\n",
    "    '''\n",
    "    Find and return the random seed and corresponding simulated data for our novel strange attractor\n",
    "    '''\n",
    "    diverges = True\n",
    "    \n",
    "    if seed == None:\n",
    "        seed = np.random.randint(0,1e7)\n",
    "    \n",
    "    while diverges:\n",
    "        print(f'trying seed = {seed}')\n",
    "        np.random.seed(seed)\n",
    "        \n",
    "        params = gen_random_coeffs()\n",
    "        \n",
    "        # you can tell a sim diverges far before the last frame, so for identifying divergent systems we\n",
    "        # don't need to simulate the whole way through\n",
    "        \n",
    "        sim_count = 500\n",
    "        gen_count = int(num_gen/3)\n",
    "        \n",
    "        if num_frames < sim_count:\n",
    "            sim_count = num_frames\n",
    "            \n",
    "        data = [gen_lorenz(sim_count, params, dims) for _ in range(gen_count)]\n",
    "        dists = compute_distances(data, cutoff=sim_count)\n",
    "        \n",
    "        if np.max(dists) <= eps:\n",
    "            diverges = False\n",
    "        else:\n",
    "            seed = np.random.randint(0,1e7)\n",
    "            \n",
    "            print(f'max_dist = {np.nanmax(dists)}')\n",
    "            print(f'sim reaches max dist at t = {np.min(np.where(np.max(dists, axis=0) == np.nanmax(dists))[0])}\\n')\n",
    "    \n",
    "    print(f'found coefficients which dont diverge, max_dist = {np.max(dists)}')\n",
    "    #now we generate the full simulation\n",
    "    data = [gen_lorenz(num_frames, params, dims) for _ in range(num_gen)]\n",
    "    \n",
    "    return (seed,data)"
   ]
  },
  {
   "cell_type": "markdown",
   "id": "8276d5de-8e64-488b-83ae-93925377c235",
   "metadata": {},
   "source": [
    "### Animate our chaotic attractor\n",
    "\n",
    "Be warned, this method isn't very efficient, and actually finding good coefficients can take a while"
   ]
  },
  {
   "cell_type": "code",
   "execution_count": 17,
   "id": "ed0f4b4d-447c-4cb5-9e30-bd04599563e0",
   "metadata": {
    "tags": []
   },
   "outputs": [
    {
     "name": "stderr",
     "output_type": "stream",
     "text": [
      "<ipython-input-17-c9f859a36b56>:2: MatplotlibDeprecationWarning: Axes3D(fig) adding itself to the figure is deprecated since 3.4. Pass the keyword argument auto_add_to_figure=False and use fig.add_axes(ax) to suppress this warning. The default value of auto_add_to_figure will change to False in mpl3.5 and True values will no longer work in 3.6.  This is consistent with other Axes classes.\n",
      "  ax = p3.Axes3D(fig)\n"
     ]
    },
    {
     "name": "stdout",
     "output_type": "stream",
     "text": [
      "trying seed = 6066554\n",
      "found coefficients which dont diverge, max_dist = 2742.7316992289025\n",
      "rendering frames...\n",
      "scale=71.8882383597481\n",
      "finished animating attractor with seed = 6066554\n"
     ]
    },
    {
     "data": {
      "image/png": "[encoded data removed]",
      "text/plain": [
       "<Figure size 432x288 with 1 Axes>"
      ]
     },
     "metadata": {},
     "output_type": "display_data"
    }
   ],
   "source": [
    "fig = plt.figure()\n",
    "ax = p3.Axes3D(fig)\n",
    "plt.style.use('dark_background')\n",
    "\n",
    "lines = []\n",
    "num_frames = 1000\n",
    "num_gen = 200\n",
    "window = 100\n",
    "\n",
    "seed, data = gen_data(num_frames, num_gen, seed=6066554)\n",
    "\n",
    "dists = compute_distances(data, cutoff=num_frames)\n",
    "\n",
    "color_seed = np.random.randint(0,1e5)\n",
    "\n",
    "for dat in data:\n",
    "    \n",
    "    np.random.seed(color_seed)\n",
    "        \n",
    "    l_color = gen_rand_color()\n",
    "    l = ax.plot(dat[0, 0], dat[1, 0], dat[2, 0], color=l_color)[0]\n",
    "    \n",
    "    lines.append(l)\n",
    "    \n",
    "    color_seed +=1\n",
    "    \n",
    "#axes bound by 2 std dev above mean distance across the entire sim\n",
    "dists = np.clip(dists, -1e20, 1e20)\n",
    "scale=np.clip(np.nanmean(dists)+2*np.nanstd(dists), 0, 200)\n",
    "\n",
    "#set proper scale for each axis\n",
    "ax.set_xlim3d([-scale, scale])\n",
    "ax.set_ylim3d([-scale, scale])\n",
    "ax.set_zlim3d([-scale, scale])\n",
    "\n",
    "plt.axis('off')\n",
    "print('rendering frames...')\n",
    "print(f'scale={scale}')\n",
    "# Creating the Animation object\n",
    "line_ani = animation.FuncAnimation(fig, update_lines, frames=num_frames, fargs=(data, lines, window),\n",
    "                                   interval=30, blit=True)\n",
    "line_ani.save(f'output/lorenz{seed}.gif', writer='pillow')\n",
    "print(f'finished animating attractor with seed = {seed}')"
   ]
  },
  {
   "cell_type": "code",
   "execution_count": null,
   "id": "89785132-b8c3-4836-87ca-44c28972d524",
   "metadata": {},
   "outputs": [],
   "source": []
  }
 ],
 "metadata": {
  "kernelspec": {
   "display_name": "Python 3",
   "language": "python",
   "name": "python3"
  },
  "language_info": {
   "codemirror_mode": {
    "name": "ipython",
    "version": 3
   },
   "file_extension": ".py",
   "mimetype": "text/x-python",
   "name": "python",
   "nbconvert_exporter": "python",
   "pygments_lexer": "ipython3",
   "version": "3.8.6"
  }
 },
 "nbformat": 4,
 "nbformat_minor": 5
}
