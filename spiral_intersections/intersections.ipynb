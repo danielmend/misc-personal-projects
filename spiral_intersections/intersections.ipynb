{
 "cells": [
  {
   "cell_type": "markdown",
   "id": "1e83f641-2ab3-4854-9044-060483edc944",
   "metadata": {},
   "source": [
    "# Intersections\n",
    "\n",
    "This notebook computes the number of intersection between a spiral and a randomly generated line segment. Both the line and spiral are represented by a set of points, but due to the nature of how the functions are parameterized they don't usually share points. \n",
    "\n",
    "In order to compute the # of intersections between the line and spiral, I create small rectangles between each point in the line and each point along the spiral. If a spiral rectangle overlaps with a line rectangle, that's a point of intersection. Sometimes, if the line is tangent to the spiral at a certain point, there can be many intersections in a localized region, so I had to account for this when computing intersections"
   ]
  },
  {
   "cell_type": "code",
   "execution_count": 14,
   "id": "b69b6822-d1ef-4bd0-b9e6-c584e14c73fd",
   "metadata": {},
   "outputs": [],
   "source": [
    "import numpy as np\n",
    "import matplotlib.pyplot as plt\n",
    "import random"
   ]
  },
  {
   "cell_type": "code",
   "execution_count": 15,
   "id": "6c76cef9-d711-4169-9478-6ee3e37331af",
   "metadata": {},
   "outputs": [],
   "source": [
    "padding = 2 # constant which makes plots slightly zoomed out"
   ]
  },
  {
   "cell_type": "markdown",
   "id": "0c897d71-7581-411b-a26e-2688b823a630",
   "metadata": {},
   "source": [
    "### Helper functions"
   ]
  },
  {
   "cell_type": "code",
   "execution_count": 16,
   "id": "eea4b23d-a612-49cf-8887-ff3060f0348b",
   "metadata": {},
   "outputs": [],
   "source": [
    "def create_spiral(tmin, tmax, num_points):\n",
    "    '''\n",
    "    Create and return (x,y) coordinates for points along a spiral paramterized by r(t) = <rcost, rsint>\n",
    "    '''\n",
    "    x = [r*np.cos(r) for r in np.linspace(tmin, tmax, num_points)]\n",
    "    y = [r*np.sin(r) for r in np.linspace(tmin, tmax, num_points)]\n",
    "    \n",
    "    return x,y"
   ]
  },
  {
   "cell_type": "code",
   "execution_count": 17,
   "id": "a04a2181-30b4-4e13-842d-7a03caa814a1",
   "metadata": {},
   "outputs": [],
   "source": [
    "def get_point_from_bound(bound, xy_bounds):\n",
    "    '''\n",
    "    Select and return the coordinates of a point along a bound of the spiral\n",
    "    '''\n",
    "    max_x, min_x, max_y, min_y = xy_bounds\n",
    "    \n",
    "    if bound == 0:\n",
    "        return (min_x, np.random.uniform(min_y, max_y))\n",
    "    \n",
    "    elif bound == 1:\n",
    "        return (max_x, np.random.uniform(min_y, max_y))\n",
    "    \n",
    "    elif bound == 2:\n",
    "        return (np.random.uniform(min_x, max_x), max_y)\n",
    "    \n",
    "    elif bound == 3:\n",
    "        return (np.random.uniform(min_x, max_x), min_y)\n",
    "    \n",
    "    else:\n",
    "        return 'Invalid bound'"
   ]
  },
  {
   "cell_type": "code",
   "execution_count": 18,
   "id": "02b5fa04-0dc4-4117-8a9f-e5ccd3d2ab22",
   "metadata": {},
   "outputs": [],
   "source": [
    "def get_points_for_line(xy_bounds):\n",
    "    '''\n",
    "    Generate a line by creating a bounding box around the spiral and selecting two random points along two random bounds.\n",
    "    '''\n",
    "    bounds = [0,1,2,3]\n",
    "    first_bound = bounds.pop(random.choice(bounds))\n",
    "    point1 = get_point_from_bound(first_bound, xy_bounds)\n",
    "    \n",
    "    second_bound = random.choice(bounds)\n",
    "    point2 = get_point_from_bound(second_bound, xy_bounds)\n",
    "    \n",
    "    return point1, point2"
   ]
  },
  {
   "cell_type": "code",
   "execution_count": 19,
   "id": "f0932c0b-83d6-49ab-bd37-982676553421",
   "metadata": {},
   "outputs": [],
   "source": [
    "def get_xy_bounds(spiral_x, spiral_y):\n",
    "    '''\n",
    "    Return the min/max of the x and y values of the spiral\n",
    "    '''\n",
    "    return (np.ceil(max(spiral_x)) + padding, np.ceil(min(spiral_x)) - padding, np.ceil(max(spiral_y)) + padding, np.ceil(min(spiral_y)) - padding)"
   ]
  },
  {
   "cell_type": "code",
   "execution_count": 21,
   "id": "3d6a66d6-6c17-4d85-9484-16a92288a65f",
   "metadata": {},
   "outputs": [],
   "source": [
    "def generate_line(spiral_x, spiral_y, num_points):\n",
    "    '''\n",
    "    Generate a random line given a spiral\n",
    "    '''\n",
    "    xy_bounds = get_xy_bounds(spiral_x, spiral_y)\n",
    "    \n",
    "    point1, point2 = get_points_for_line(xy_bounds)\n",
    "    \n",
    "    line_x = np.linspace(point1[0], point2[0], num_points)\n",
    "    line_y = np.linspace(point1[1], point2[1], num_points)\n",
    "    \n",
    "    return (line_x, line_y)"
   ]
  },
  {
   "cell_type": "code",
   "execution_count": 22,
   "id": "6d005abb-5061-4b61-945d-982be1e5017b",
   "metadata": {},
   "outputs": [],
   "source": [
    "class Rectangle:\n",
    "    def __init__(self, p1, p2):\n",
    "        self.p1 = p1\n",
    "        self.p2 = p2\n",
    "        self.p3 = (p1[0], p2[1])\n",
    "        self.p4 = (p2[0], p1[1])\n",
    "        \n",
    "        self.min_x = min(p1[0], p2[0])\n",
    "        self.max_x = max(p1[0], p2[0])\n",
    "        self.min_y = min(p1[1], p2[1])\n",
    "        self.max_y = max(p1[1], p2[1])\n",
    "        \n",
    "    def intersects(self, rectangle):\n",
    "        \n",
    "        if self.min_x > rectangle.max_x or self.max_x < rectangle.min_x or self.min_y > rectangle.max_y or self.max_y < rectangle.min_y:\n",
    "            return False\n",
    "        \n",
    "        return True"
   ]
  },
  {
   "cell_type": "markdown",
   "id": "ae27a59c-ec2a-47c6-8bb8-abb42e34f40f",
   "metadata": {},
   "source": [
    "### Generate our spiral and line, find the # of intersections, and plot"
   ]
  },
  {
   "cell_type": "code",
   "execution_count": 24,
   "id": "32a54ea2-6479-47f0-9120-5cbafa7dc232",
   "metadata": {},
   "outputs": [
    {
     "name": "stdout",
     "output_type": "stream",
     "text": [
      "Num intersections = 6\n"
     ]
    },
    {
     "data": {
      "image/png": "[encoded data removed]",
      "text/plain": [
       "<Figure size 432x288 with 1 Axes>"
      ]
     },
     "metadata": {
      "needs_background": "light"
     },
     "output_type": "display_data"
    }
   ],
   "source": [
    "num_revs=3\n",
    "x, y = create_spiral(0, num_revs*2*np.pi, num_points=1000)\n",
    "line_x, line_y = generate_line(x, y, 1000)\n",
    "\n",
    "\n",
    "line_rects = [Rectangle((line_x[i], line_y[i]), (line_x[i+1], line_y[i+1])) for i in range(len(line_x)-1)]\n",
    "spiral_rects = [Rectangle((x[i], y[i]), (x[i+1], y[i+1])) for i in range(len(x)-1)]\n",
    "\n",
    "intersecting_points = []\n",
    "for line_rect in line_rects:\n",
    "    for spiral_rect in spiral_rects:\n",
    "        if line_rect.intersects(spiral_rect):\n",
    "            intersecting_points.append((line_rect, spiral_rect))\n",
    "\n",
    "\n",
    "if len(intersecting_points) > 0:\n",
    "    intersecting_points_lines_p1_x = [intersecting_points[i][0].p1[0] for i in range(len(intersecting_points))]\n",
    "    intersecting_points_lines_p1_y = [intersecting_points[i][0].p1[1] for i in range(len(intersecting_points))]\n",
    "    \n",
    "    diffs_x = np.diff(intersecting_points_lines_p1_x)\n",
    "    diffs_y = np.diff(intersecting_points_lines_p1_y)\n",
    "\n",
    "    diffs_combined = np.asarray([np.sqrt(diffs_x[i]**2 + diffs_y[i]**2) for i in range(len(diffs_x))])\n",
    "    num_intersections = len(np.argwhere(np.round(diffs_combined)).flatten())+1\n",
    "    \n",
    "else:\n",
    "    num_intersections = 0\n",
    "    \n",
    "print(f'Num intersections = {num_intersections}')\n",
    "plt.xlim(-num_revs*2*np.pi - padding, num_revs*2*np.pi + padding)\n",
    "plt.ylim(-num_revs*2*np.pi - padding, num_revs*2*np.pi + padding)\n",
    "plt.plot(x,y)\n",
    "plt.plot(line_x, line_y)\n",
    "plt.show()"
   ]
  },
  {
   "cell_type": "code",
   "execution_count": null,
   "id": "abe761b1-c1cb-4c4f-8065-320d01496727",
   "metadata": {},
   "outputs": [],
   "source": []
  },
  {
   "cell_type": "code",
   "execution_count": null,
   "id": "fa8c4b1f-ee67-4b90-a202-cabada6a4961",
   "metadata": {},
   "outputs": [],
   "source": []
  }
 ],
 "metadata": {
  "kernelspec": {
   "display_name": "Python 3",
   "language": "python",
   "name": "python3"
  },
  "language_info": {
   "codemirror_mode": {
    "name": "ipython",
    "version": 3
   },
   "file_extension": ".py",
   "mimetype": "text/x-python",
   "name": "python",
   "nbconvert_exporter": "python",
   "pygments_lexer": "ipython3",
   "version": "3.8.6"
  }
 },
 "nbformat": 4,
 "nbformat_minor": 5
}
