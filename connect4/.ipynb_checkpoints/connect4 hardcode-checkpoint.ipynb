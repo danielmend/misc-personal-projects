{
 "cells": [
  {
   "cell_type": "markdown",
   "metadata": {},
   "source": [
    "# Connect-4 AI Agent\n",
    "\n",
    "This notebook implements Connect-4 and then uses minimax + a custom position evaluation algorithm to create an AI Connect-4 opponent"
   ]
  },
  {
   "cell_type": "markdown",
   "metadata": {},
   "source": [
    "### Imports"
   ]
  },
  {
   "cell_type": "code",
   "execution_count": 13,
   "metadata": {},
   "outputs": [],
   "source": [
    "import numpy as np\n",
    "import copy\n",
    "import operator\n",
    "import random"
   ]
  },
  {
   "cell_type": "markdown",
   "metadata": {},
   "source": [
    "### Define Game object"
   ]
  },
  {
   "cell_type": "code",
   "execution_count": 14,
   "metadata": {},
   "outputs": [],
   "source": [
    "class Game:\n",
    "    \n",
    "    def __init__(self, size, from_state=None):\n",
    "        self.size = size\n",
    "        self.gameboard = np.zeros(shape=size)\n",
    "        if from_state is not None:\n",
    "            self.gameboard = from_state\n",
    "        self.turn = 1\n",
    "        \n",
    "    def isLegal(self, col):\n",
    "        '''\n",
    "        Return if placing a piece in col is legal or not\n",
    "        '''\n",
    "        return (self.gameboard[0][col] == 0)\n",
    "        \n",
    "    def makeMove(self, col):\n",
    "        '''\n",
    "        Place piece in column\n",
    "        '''\n",
    "        if self.isLegal(col):\n",
    "            #find first open row\n",
    "            row = self.size[0]-1\n",
    "            for i in range(self.size[0]):\n",
    "                if self.gameboard[i][col] != 0:\n",
    "                    row = i-1\n",
    "                    break\n",
    "                    \n",
    "            self.gameboard[row][col] = self.turn\n",
    "            self.turn += 1\n",
    "            if self.turn > 2:\n",
    "                self.turn = 1\n",
    "                \n",
    "    def isGameOver(self):\n",
    "        '''\n",
    "        Check if a player has won\n",
    "        '''\n",
    "        if len(self.legalMoves()) == 0:\n",
    "            return 0\n",
    "        \n",
    "        #check rows\n",
    "        for i in range(self.size[0]):\n",
    "            row = \"\".join(str(self.gameboard[i,:].astype(np.int64))).replace(\" \",\"\").replace(\"[\",\"\").replace(\"]\",\"\")\n",
    "            if row.count(\"1111\") == 1:\n",
    "                return 1\n",
    "            if row.count(\"2222\") == 1:\n",
    "                return 2\n",
    "        \n",
    "        #check cols\n",
    "        for i in range(self.size[1]):\n",
    "            col = \"\".join(str(self.gameboard[:,i].astype(np.int64))).replace(\" \",\"\").replace(\"[\",\"\").replace(\"]\",\"\")\n",
    "            \n",
    "            if col.count(\"1111\") == 1:\n",
    "                return 1\n",
    "            if col.count(\"2222\") == 1:\n",
    "                return 2\n",
    "            \n",
    "        #diagonals\n",
    "        for x in range(self.size[0] - 3):\n",
    "            for y in range(3, self.size[1]):\n",
    "                for player in [1,2]:\n",
    "                    if self.gameboard[x][y] == player and self.gameboard[x+1][y-1] == player and self.gameboard[x+2][y-2] == player and self.gameboard[x+3][y-3] == player:\n",
    "                        return player\n",
    "\n",
    "        for x in range(self.size[0] - 3):\n",
    "            for y in range(self.size[1] - 3):\n",
    "                for player in [1,2]:\n",
    "                    if self.gameboard[x][y] == player and self.gameboard[x+1][y+1] == player and self.gameboard[x+2][y+2] == player and self.gameboard[x+3][y+3] == player:\n",
    "                        return player\n",
    "        \n",
    "        return None\n",
    "    \n",
    "    def checkDiag(self, a):\n",
    "        for i in range(-self.size[0]+1,self.size[0]):\n",
    "            d = np.diagonal(a,i)\n",
    "            d = \"\".join(str(d.astype(np.int64))).replace(\" \",\"\").replace(\"[\",\"\").replace(\"]\",\"\")\n",
    "            if d.count(\"1111\") == 1:\n",
    "                return 1\n",
    "            if d.count(\"2222\") == 1:\n",
    "                return 2\n",
    "                    \n",
    "        return None\n",
    "\n",
    "    def legalMoves(self):\n",
    "        return [i for i in range(self.size[0]) if self.isLegal(i)]\n",
    "    "
   ]
  },
  {
   "cell_type": "code",
   "execution_count": 15,
   "metadata": {},
   "outputs": [
    {
     "data": {
      "text/plain": [
       "array([[0., 0., 0., 0., 0., 0., 0.],\n",
       "       [0., 0., 0., 0., 0., 0., 0.],\n",
       "       [0., 0., 0., 0., 0., 0., 0.],\n",
       "       [0., 0., 0., 0., 0., 0., 0.],\n",
       "       [0., 0., 0., 0., 0., 0., 0.],\n",
       "       [0., 0., 0., 0., 0., 0., 0.]])"
      ]
     },
     "execution_count": 15,
     "metadata": {},
     "output_type": "execute_result"
    }
   ],
   "source": [
    "x = Game((6,7))\n",
    "x.gameboard"
   ]
  },
  {
   "cell_type": "markdown",
   "metadata": {},
   "source": [
    "### Define AI Agent object"
   ]
  },
  {
   "cell_type": "code",
   "execution_count": 16,
   "metadata": {},
   "outputs": [],
   "source": [
    "class HardCode:\n",
    "    def __init__(self, player, depth=3):\n",
    "        \n",
    "        self.player = player\n",
    "        if self.player == 1:\n",
    "            self.enemy = 2\n",
    "        else:\n",
    "            self.enemy = 1\n",
    "        self.eval_matrix = np.zeros(shape=(6,7))\n",
    "        \n",
    "        for row in range(6):\n",
    "            for col in range(7):\n",
    "                \n",
    "                value = 0\n",
    "                \n",
    "                h = abs(3-col)\n",
    "                v = abs(3-row)\n",
    "                \n",
    "                value+=(4-h)\n",
    "                value+=(4-v)\n",
    "                \n",
    "                value += self.diag_helper(row, col)\n",
    "                \n",
    "                self.eval_matrix[row][col] = value+1 +random.uniform(-2,2)\n",
    "        self.depth = depth\n",
    "        \n",
    "    def diag_helper(self, row, col):\n",
    "        '''\n",
    "        Helper function that returns # of possible diagonal connect 4s at a specific row and column\n",
    "        '''\n",
    "        value = 0\n",
    "        tmp_r = row\n",
    "        tmp_c = col\n",
    "        while tmp_r > 0 and tmp_c > 0:\n",
    "            tmp_r -= 1\n",
    "            tmp_c -= 1\n",
    "        while tmp_r < 6 and tmp_c < 7:\n",
    "            tmp_r += 1\n",
    "            tmp_c += 1\n",
    "            value += 1\n",
    "        tmp_r = row\n",
    "        tmp_c = col\n",
    "        while tmp_r >= 0 and tmp_c < 7:\n",
    "            tmp_r -= 1\n",
    "            tmp_c += 1\n",
    "        while tmp_r < 6 and tmp_c >= 0:\n",
    "            tmp_r += 1\n",
    "            tmp_c -= 1\n",
    "            value += 1\n",
    "            \n",
    "        return value\n",
    "                \n",
    "    def evaluate(self, gameBoard):\n",
    "        '''\n",
    "        Return evaluation of a given gameboard\n",
    "        '''\n",
    "        \n",
    "        b = gameBoard.gameboard\n",
    "        if gameBoard.isGameOver() == self.enemy:\n",
    "            return -100000\n",
    "        elif gameBoard.isGameOver() == self.player:\n",
    "            return 100000\n",
    "        s = 0\n",
    "        for row in range(6):\n",
    "            for col in range(7):\n",
    "                if b[row][col] == self.player:\n",
    "                    s+=self.eval_matrix[row][col]\n",
    "                if b[row][col] == self.enemy:\n",
    "                    s-=self.eval_matrix[row][col]\n",
    "        return s\n",
    "    \n",
    "    def choose_move(self, g, legal_moves, depth=None):\n",
    "        '''\n",
    "        Given a gameboard and set of legal moves, return the best move\n",
    "        '''\n",
    "        \n",
    "        if depth==None:\n",
    "            depth = self.depth\n",
    "        tree = self.build_tree(g, depth=depth)\n",
    "        tree = self.prune(tree)\n",
    "        if type(tree) == int:\n",
    "            return legal_moves[tree]\n",
    "        if tree == None:\n",
    "            return random.choice(legal_moves)\n",
    "        subnodes = tree.subnodes\n",
    "        #2nd to last layer\n",
    "        d = 1\n",
    "        while d < (2*depth):\n",
    "            new = []\n",
    "            for node in subnodes:\n",
    "                if node is not None:\n",
    "                    new.extend(node.subnodes)\n",
    "            subnodes = new\n",
    "            d+=1\n",
    "        max_min = -np.Inf\n",
    "        best_node = -1\n",
    "        for i,node in enumerate(subnodes):\n",
    "            if node is not None:\n",
    "                local_min = np.Inf\n",
    "                for j,child in enumerate(node.subnodes):\n",
    "                    if child is not None:\n",
    "                        score = self.evaluate(child.board)\n",
    "                        if score < local_min:\n",
    "                            local_min = score\n",
    "                if local_min != np.Inf and local_min > max_min:\n",
    "                    max_min=local_min\n",
    "                    best_node = i\n",
    "                    \n",
    "        n = subnodes[best_node]\n",
    "        while n.parent.root == False:\n",
    "            n = n.parent\n",
    "        best_node = n.index\n",
    "        \n",
    "        return legal_moves[best_node]\n",
    "        \n",
    "    \n",
    "    def build_tree(self, game, depth):\n",
    "        '''\n",
    "        Build and return tree of future moves \n",
    "        '''\n",
    "\n",
    "        root_node = Node(game, 0, -1, root=True)\n",
    "        current_level = [root_node]\n",
    "        for z in range(2*depth+1):\n",
    "            new_level = []\n",
    "            for node in current_level:\n",
    "                \n",
    "                poss_moves = node.board.legalMoves()\n",
    "                new_gbs = [copy.deepcopy(node.board) for move in poss_moves]\n",
    "                for i in range(len(new_gbs)):\n",
    "                    new_gbs[i].makeMove(poss_moves[i])\n",
    "                new_nodes = [Node(new_gbs[i], z+1, i) for i in range(len(new_gbs))]\n",
    "                for i,child in enumerate(new_nodes):\n",
    "                    new_level.append(child)\n",
    "                    node.set_child(child, poss_moves[i])\n",
    "            current_level = new_level\n",
    "        return root_node\n",
    "        \n",
    "    \n",
    "    def prune(self, t):\n",
    "        '''\n",
    "        Manually remove branches of tree which lead to game loss \n",
    "        '''\n",
    "        \n",
    "        for i,child in enumerate(t.subnodes):\n",
    "            if child is not None:\n",
    "                score = self.evaluate(child.board)\n",
    "                if score == 100000:\n",
    "                    return child.index\n",
    "                for child2 in child.subnodes:\n",
    "                    if child2 is not None:\n",
    "                        score2 = self.evaluate(child2.board)\n",
    "                        if score2 == -100000:\n",
    "                            t.subnodes[i] = None\n",
    "                            break\n",
    "                        for child3 in child2.subnodes:\n",
    "                            if child3 is not None:\n",
    "                                bad_children = 0\n",
    "                                for child4 in child3.subnodes:\n",
    "                                    if child4 is not None:\n",
    "                                        score3 = self.evaluate(child4.board)\n",
    "                                        if score3 == -100000:\n",
    "                                            bad_children += 1\n",
    "                                        if bad_children == 2:\n",
    "                                            t.subnodes[i] = None\n",
    "                                            break\n",
    "        for sub in t.subnodes:\n",
    "            if sub is not None:\n",
    "                return t\n",
    "        return None\n",
    "            "
   ]
  },
  {
   "cell_type": "markdown",
   "metadata": {},
   "source": [
    "### Define Node object to build trees"
   ]
  },
  {
   "cell_type": "code",
   "execution_count": 17,
   "metadata": {},
   "outputs": [],
   "source": [
    "class Node:\n",
    "    def __init__(self, board, depth, index, root=False):\n",
    "        self.board = board\n",
    "        self.subnodes = np.array([None,None,None,None,None,None,None])\n",
    "        self.parent = None\n",
    "        self.root = root\n",
    "        self.depth = depth\n",
    "        self.index = index\n",
    "        \n",
    "    def set_child(self, node, i):\n",
    "        self.subnodes[i] = node\n",
    "        node.set_parent(self)\n",
    "        \n",
    "    def set_parent(self, node):\n",
    "        self.parent = node\n",
    "        "
   ]
  },
  {
   "cell_type": "markdown",
   "metadata": {},
   "source": [
    "### Define View and Controller objects for Connect-4 implementation"
   ]
  },
  {
   "cell_type": "code",
   "execution_count": 18,
   "metadata": {},
   "outputs": [],
   "source": [
    "class View:\n",
    "    def __init__(self):\n",
    "        pass\n",
    "    def drawboard(self, board):\n",
    "        print(board)\n",
    "        print(\"\\n\\n\\n\")"
   ]
  },
  {
   "cell_type": "code",
   "execution_count": 19,
   "metadata": {},
   "outputs": [],
   "source": [
    "class Controller:\n",
    "    def __init__(self, shape, players):\n",
    "        self.shape = shape\n",
    "        self.players = players\n",
    "        self.view = View()\n",
    "        \n",
    "    def playGame(self, display=False):\n",
    "        local = Game(self.shape)\n",
    "        while not local.isGameOver():\n",
    "            \n",
    "            turn = local.turn\n",
    "            player = self.players[turn-1]\n",
    "            move = player.choose_move(local, local.legalMoves())\n",
    "            \n",
    "            local.makeMove(move)\n",
    "            if display:\n",
    "                self.view.drawboard(local.gameboard)\n",
    "            \n",
    "        return local.isGameOver()"
   ]
  },
  {
   "cell_type": "code",
   "execution_count": 20,
   "metadata": {},
   "outputs": [],
   "source": [
    "class User:\n",
    "    \n",
    "    def __init__(self):\n",
    "        pass\n",
    "    \n",
    "    def choose_move(self, a, b):\n",
    "        move = int(input(\"Choose move:\"))\n",
    "        return move"
   ]
  },
  {
   "cell_type": "code",
   "execution_count": 21,
   "metadata": {},
   "outputs": [],
   "source": [
    "class Random:\n",
    "    def __init__(self):\n",
    "        pass\n",
    "    \n",
    "    def choose_move(self, a, moves):\n",
    "        return random.choice(moves)"
   ]
  },
  {
   "cell_type": "markdown",
   "metadata": {},
   "source": [
    "### Play against the AI!"
   ]
  },
  {
   "cell_type": "code",
   "execution_count": 26,
   "metadata": {},
   "outputs": [],
   "source": [
    "shape = (6,7)\n",
    "p1 = User()\n",
    "p2 = HardCode(2, depth=2)\n",
    "j = Controller(shape, [p1, p2])"
   ]
  },
  {
   "cell_type": "code",
   "execution_count": 27,
   "metadata": {},
   "outputs": [
    {
     "name": "stdin",
     "output_type": "stream",
     "text": [
      "Choose move: 3\n"
     ]
    },
    {
     "name": "stdout",
     "output_type": "stream",
     "text": [
      "[[0. 0. 0. 0. 0. 0. 0.]\n",
      " [0. 0. 0. 0. 0. 0. 0.]\n",
      " [0. 0. 0. 0. 0. 0. 0.]\n",
      " [0. 0. 0. 0. 0. 0. 0.]\n",
      " [0. 0. 0. 0. 0. 0. 0.]\n",
      " [0. 0. 0. 1. 0. 0. 0.]]\n",
      "\n",
      "\n",
      "\n",
      "\n",
      "[[0. 0. 0. 0. 0. 0. 0.]\n",
      " [0. 0. 0. 0. 0. 0. 0.]\n",
      " [0. 0. 0. 0. 0. 0. 0.]\n",
      " [0. 0. 0. 0. 0. 0. 0.]\n",
      " [0. 0. 0. 2. 0. 0. 0.]\n",
      " [0. 0. 0. 1. 0. 0. 0.]]\n",
      "\n",
      "\n",
      "\n",
      "\n"
     ]
    },
    {
     "name": "stdin",
     "output_type": "stream",
     "text": [
      "Choose move: 4\n"
     ]
    },
    {
     "name": "stdout",
     "output_type": "stream",
     "text": [
      "[[0. 0. 0. 0. 0. 0. 0.]\n",
      " [0. 0. 0. 0. 0. 0. 0.]\n",
      " [0. 0. 0. 0. 0. 0. 0.]\n",
      " [0. 0. 0. 0. 0. 0. 0.]\n",
      " [0. 0. 0. 2. 0. 0. 0.]\n",
      " [0. 0. 0. 1. 1. 0. 0.]]\n",
      "\n",
      "\n",
      "\n",
      "\n"
     ]
    },
    {
     "ename": "KeyboardInterrupt",
     "evalue": "",
     "output_type": "error",
     "traceback": [
      "\u001b[0;31m---------------------------------------------------------------------------\u001b[0m",
      "\u001b[0;31mKeyboardInterrupt\u001b[0m                         Traceback (most recent call last)",
      "\u001b[0;32m<ipython-input-27-599acb104a79>\u001b[0m in \u001b[0;36m<module>\u001b[0;34m\u001b[0m\n\u001b[0;32m----> 1\u001b[0;31m \u001b[0mj\u001b[0m\u001b[0;34m.\u001b[0m\u001b[0mplayGame\u001b[0m\u001b[0;34m(\u001b[0m\u001b[0mdisplay\u001b[0m\u001b[0;34m=\u001b[0m\u001b[0;32mTrue\u001b[0m\u001b[0;34m)\u001b[0m\u001b[0;34m\u001b[0m\u001b[0;34m\u001b[0m\u001b[0m\n\u001b[0m",
      "\u001b[0;32m<ipython-input-19-186f0301622b>\u001b[0m in \u001b[0;36mplayGame\u001b[0;34m(self, display)\u001b[0m\n\u001b[1;32m     11\u001b[0m             \u001b[0mturn\u001b[0m \u001b[0;34m=\u001b[0m \u001b[0mlocal\u001b[0m\u001b[0;34m.\u001b[0m\u001b[0mturn\u001b[0m\u001b[0;34m\u001b[0m\u001b[0;34m\u001b[0m\u001b[0m\n\u001b[1;32m     12\u001b[0m             \u001b[0mplayer\u001b[0m \u001b[0;34m=\u001b[0m \u001b[0mself\u001b[0m\u001b[0;34m.\u001b[0m\u001b[0mplayers\u001b[0m\u001b[0;34m[\u001b[0m\u001b[0mturn\u001b[0m\u001b[0;34m-\u001b[0m\u001b[0;36m1\u001b[0m\u001b[0;34m]\u001b[0m\u001b[0;34m\u001b[0m\u001b[0;34m\u001b[0m\u001b[0m\n\u001b[0;32m---> 13\u001b[0;31m             \u001b[0mmove\u001b[0m \u001b[0;34m=\u001b[0m \u001b[0mplayer\u001b[0m\u001b[0;34m.\u001b[0m\u001b[0mchoose_move\u001b[0m\u001b[0;34m(\u001b[0m\u001b[0mlocal\u001b[0m\u001b[0;34m,\u001b[0m \u001b[0mlocal\u001b[0m\u001b[0;34m.\u001b[0m\u001b[0mlegalMoves\u001b[0m\u001b[0;34m(\u001b[0m\u001b[0;34m)\u001b[0m\u001b[0;34m)\u001b[0m\u001b[0;34m\u001b[0m\u001b[0;34m\u001b[0m\u001b[0m\n\u001b[0m\u001b[1;32m     14\u001b[0m \u001b[0;34m\u001b[0m\u001b[0m\n\u001b[1;32m     15\u001b[0m             \u001b[0mlocal\u001b[0m\u001b[0;34m.\u001b[0m\u001b[0mmakeMove\u001b[0m\u001b[0;34m(\u001b[0m\u001b[0mmove\u001b[0m\u001b[0;34m)\u001b[0m\u001b[0;34m\u001b[0m\u001b[0;34m\u001b[0m\u001b[0m\n",
      "\u001b[0;32m<ipython-input-16-60e790665bc8>\u001b[0m in \u001b[0;36mchoose_move\u001b[0;34m(self, g, legal_moves, depth)\u001b[0m\n\u001b[1;32m    100\u001b[0m                 \u001b[0;32mfor\u001b[0m \u001b[0mj\u001b[0m\u001b[0;34m,\u001b[0m\u001b[0mchild\u001b[0m \u001b[0;32min\u001b[0m \u001b[0menumerate\u001b[0m\u001b[0;34m(\u001b[0m\u001b[0mnode\u001b[0m\u001b[0;34m.\u001b[0m\u001b[0msubnodes\u001b[0m\u001b[0;34m)\u001b[0m\u001b[0;34m:\u001b[0m\u001b[0;34m\u001b[0m\u001b[0;34m\u001b[0m\u001b[0m\n\u001b[1;32m    101\u001b[0m                     \u001b[0;32mif\u001b[0m \u001b[0mchild\u001b[0m \u001b[0;32mis\u001b[0m \u001b[0;32mnot\u001b[0m \u001b[0;32mNone\u001b[0m\u001b[0;34m:\u001b[0m\u001b[0;34m\u001b[0m\u001b[0;34m\u001b[0m\u001b[0m\n\u001b[0;32m--> 102\u001b[0;31m                         \u001b[0mscore\u001b[0m \u001b[0;34m=\u001b[0m \u001b[0mself\u001b[0m\u001b[0;34m.\u001b[0m\u001b[0mevaluate\u001b[0m\u001b[0;34m(\u001b[0m\u001b[0mchild\u001b[0m\u001b[0;34m.\u001b[0m\u001b[0mboard\u001b[0m\u001b[0;34m)\u001b[0m\u001b[0;34m\u001b[0m\u001b[0;34m\u001b[0m\u001b[0m\n\u001b[0m\u001b[1;32m    103\u001b[0m                         \u001b[0;32mif\u001b[0m \u001b[0mscore\u001b[0m \u001b[0;34m<\u001b[0m \u001b[0mlocal_min\u001b[0m\u001b[0;34m:\u001b[0m\u001b[0;34m\u001b[0m\u001b[0;34m\u001b[0m\u001b[0m\n\u001b[1;32m    104\u001b[0m                             \u001b[0mlocal_min\u001b[0m \u001b[0;34m=\u001b[0m \u001b[0mscore\u001b[0m\u001b[0;34m\u001b[0m\u001b[0;34m\u001b[0m\u001b[0m\n",
      "\u001b[0;32m<ipython-input-16-60e790665bc8>\u001b[0m in \u001b[0;36mevaluate\u001b[0;34m(self, gameBoard)\u001b[0m\n\u001b[1;32m     59\u001b[0m         \u001b[0;32mif\u001b[0m \u001b[0mgameBoard\u001b[0m\u001b[0;34m.\u001b[0m\u001b[0misGameOver\u001b[0m\u001b[0;34m(\u001b[0m\u001b[0;34m)\u001b[0m \u001b[0;34m==\u001b[0m \u001b[0mself\u001b[0m\u001b[0;34m.\u001b[0m\u001b[0menemy\u001b[0m\u001b[0;34m:\u001b[0m\u001b[0;34m\u001b[0m\u001b[0;34m\u001b[0m\u001b[0m\n\u001b[1;32m     60\u001b[0m             \u001b[0;32mreturn\u001b[0m \u001b[0;34m-\u001b[0m\u001b[0;36m100000\u001b[0m\u001b[0;34m\u001b[0m\u001b[0;34m\u001b[0m\u001b[0m\n\u001b[0;32m---> 61\u001b[0;31m         \u001b[0;32melif\u001b[0m \u001b[0mgameBoard\u001b[0m\u001b[0;34m.\u001b[0m\u001b[0misGameOver\u001b[0m\u001b[0;34m(\u001b[0m\u001b[0;34m)\u001b[0m \u001b[0;34m==\u001b[0m \u001b[0mself\u001b[0m\u001b[0;34m.\u001b[0m\u001b[0mplayer\u001b[0m\u001b[0;34m:\u001b[0m\u001b[0;34m\u001b[0m\u001b[0;34m\u001b[0m\u001b[0m\n\u001b[0m\u001b[1;32m     62\u001b[0m             \u001b[0;32mreturn\u001b[0m \u001b[0;36m100000\u001b[0m\u001b[0;34m\u001b[0m\u001b[0;34m\u001b[0m\u001b[0m\n\u001b[1;32m     63\u001b[0m         \u001b[0ms\u001b[0m \u001b[0;34m=\u001b[0m \u001b[0;36m0\u001b[0m\u001b[0;34m\u001b[0m\u001b[0;34m\u001b[0m\u001b[0m\n",
      "\u001b[0;32m<ipython-input-14-bd1800fa5d44>\u001b[0m in \u001b[0;36misGameOver\u001b[0;34m(self)\u001b[0m\n\u001b[1;32m     48\u001b[0m         \u001b[0;31m#check cols\u001b[0m\u001b[0;34m\u001b[0m\u001b[0;34m\u001b[0m\u001b[0;34m\u001b[0m\u001b[0m\n\u001b[1;32m     49\u001b[0m         \u001b[0;32mfor\u001b[0m \u001b[0mi\u001b[0m \u001b[0;32min\u001b[0m \u001b[0mrange\u001b[0m\u001b[0;34m(\u001b[0m\u001b[0mself\u001b[0m\u001b[0;34m.\u001b[0m\u001b[0msize\u001b[0m\u001b[0;34m[\u001b[0m\u001b[0;36m1\u001b[0m\u001b[0;34m]\u001b[0m\u001b[0;34m)\u001b[0m\u001b[0;34m:\u001b[0m\u001b[0;34m\u001b[0m\u001b[0;34m\u001b[0m\u001b[0m\n\u001b[0;32m---> 50\u001b[0;31m             \u001b[0mcol\u001b[0m \u001b[0;34m=\u001b[0m \u001b[0;34m\"\"\u001b[0m\u001b[0;34m.\u001b[0m\u001b[0mjoin\u001b[0m\u001b[0;34m(\u001b[0m\u001b[0mstr\u001b[0m\u001b[0;34m(\u001b[0m\u001b[0mself\u001b[0m\u001b[0;34m.\u001b[0m\u001b[0mgameboard\u001b[0m\u001b[0;34m[\u001b[0m\u001b[0;34m:\u001b[0m\u001b[0;34m,\u001b[0m\u001b[0mi\u001b[0m\u001b[0;34m]\u001b[0m\u001b[0;34m.\u001b[0m\u001b[0mastype\u001b[0m\u001b[0;34m(\u001b[0m\u001b[0mnp\u001b[0m\u001b[0;34m.\u001b[0m\u001b[0mint64\u001b[0m\u001b[0;34m)\u001b[0m\u001b[0;34m)\u001b[0m\u001b[0;34m)\u001b[0m\u001b[0;34m.\u001b[0m\u001b[0mreplace\u001b[0m\u001b[0;34m(\u001b[0m\u001b[0;34m\" \"\u001b[0m\u001b[0;34m,\u001b[0m\u001b[0;34m\"\"\u001b[0m\u001b[0;34m)\u001b[0m\u001b[0;34m.\u001b[0m\u001b[0mreplace\u001b[0m\u001b[0;34m(\u001b[0m\u001b[0;34m\"[\"\u001b[0m\u001b[0;34m,\u001b[0m\u001b[0;34m\"\"\u001b[0m\u001b[0;34m)\u001b[0m\u001b[0;34m.\u001b[0m\u001b[0mreplace\u001b[0m\u001b[0;34m(\u001b[0m\u001b[0;34m\"]\"\u001b[0m\u001b[0;34m,\u001b[0m\u001b[0;34m\"\"\u001b[0m\u001b[0;34m)\u001b[0m\u001b[0;34m\u001b[0m\u001b[0;34m\u001b[0m\u001b[0m\n\u001b[0m\u001b[1;32m     51\u001b[0m \u001b[0;34m\u001b[0m\u001b[0m\n\u001b[1;32m     52\u001b[0m             \u001b[0;32mif\u001b[0m \u001b[0mcol\u001b[0m\u001b[0;34m.\u001b[0m\u001b[0mcount\u001b[0m\u001b[0;34m(\u001b[0m\u001b[0;34m\"1111\"\u001b[0m\u001b[0;34m)\u001b[0m \u001b[0;34m==\u001b[0m \u001b[0;36m1\u001b[0m\u001b[0;34m:\u001b[0m\u001b[0;34m\u001b[0m\u001b[0;34m\u001b[0m\u001b[0m\n",
      "\u001b[0;32m/Library/Frameworks/Python.framework/Versions/3.8/lib/python3.8/site-packages/numpy/core/arrayprint.py\u001b[0m in \u001b[0;36m_array_str_implementation\u001b[0;34m(a, max_line_width, precision, suppress_small, array2string)\u001b[0m\n\u001b[1;32m   1488\u001b[0m         \u001b[0;32mreturn\u001b[0m \u001b[0m_guarded_repr_or_str\u001b[0m\u001b[0;34m(\u001b[0m\u001b[0mnp\u001b[0m\u001b[0;34m.\u001b[0m\u001b[0mndarray\u001b[0m\u001b[0;34m.\u001b[0m\u001b[0m__getitem__\u001b[0m\u001b[0;34m(\u001b[0m\u001b[0ma\u001b[0m\u001b[0;34m,\u001b[0m \u001b[0;34m(\u001b[0m\u001b[0;34m)\u001b[0m\u001b[0;34m)\u001b[0m\u001b[0;34m)\u001b[0m\u001b[0;34m\u001b[0m\u001b[0;34m\u001b[0m\u001b[0m\n\u001b[1;32m   1489\u001b[0m \u001b[0;34m\u001b[0m\u001b[0m\n\u001b[0;32m-> 1490\u001b[0;31m     \u001b[0;32mreturn\u001b[0m \u001b[0marray2string\u001b[0m\u001b[0;34m(\u001b[0m\u001b[0ma\u001b[0m\u001b[0;34m,\u001b[0m \u001b[0mmax_line_width\u001b[0m\u001b[0;34m,\u001b[0m \u001b[0mprecision\u001b[0m\u001b[0;34m,\u001b[0m \u001b[0msuppress_small\u001b[0m\u001b[0;34m,\u001b[0m \u001b[0;34m' '\u001b[0m\u001b[0;34m,\u001b[0m \u001b[0;34m\"\"\u001b[0m\u001b[0;34m)\u001b[0m\u001b[0;34m\u001b[0m\u001b[0;34m\u001b[0m\u001b[0m\n\u001b[0m\u001b[1;32m   1491\u001b[0m \u001b[0;34m\u001b[0m\u001b[0m\n\u001b[1;32m   1492\u001b[0m \u001b[0;34m\u001b[0m\u001b[0m\n",
      "\u001b[0;32m/Library/Frameworks/Python.framework/Versions/3.8/lib/python3.8/site-packages/numpy/core/arrayprint.py\u001b[0m in \u001b[0;36marray2string\u001b[0;34m(a, max_line_width, precision, suppress_small, separator, prefix, style, formatter, threshold, edgeitems, sign, floatmode, suffix, legacy)\u001b[0m\n\u001b[1;32m    690\u001b[0m         \u001b[0;32mreturn\u001b[0m \u001b[0;34m\"[]\"\u001b[0m\u001b[0;34m\u001b[0m\u001b[0;34m\u001b[0m\u001b[0m\n\u001b[1;32m    691\u001b[0m \u001b[0;34m\u001b[0m\u001b[0m\n\u001b[0;32m--> 692\u001b[0;31m     \u001b[0;32mreturn\u001b[0m \u001b[0m_array2string\u001b[0m\u001b[0;34m(\u001b[0m\u001b[0ma\u001b[0m\u001b[0;34m,\u001b[0m \u001b[0moptions\u001b[0m\u001b[0;34m,\u001b[0m \u001b[0mseparator\u001b[0m\u001b[0;34m,\u001b[0m \u001b[0mprefix\u001b[0m\u001b[0;34m)\u001b[0m\u001b[0;34m\u001b[0m\u001b[0;34m\u001b[0m\u001b[0m\n\u001b[0m\u001b[1;32m    693\u001b[0m \u001b[0;34m\u001b[0m\u001b[0m\n\u001b[1;32m    694\u001b[0m \u001b[0;34m\u001b[0m\u001b[0m\n",
      "\u001b[0;32m/Library/Frameworks/Python.framework/Versions/3.8/lib/python3.8/site-packages/numpy/core/arrayprint.py\u001b[0m in \u001b[0;36mwrapper\u001b[0;34m(self, *args, **kwargs)\u001b[0m\n\u001b[1;32m    466\u001b[0m             \u001b[0mrepr_running\u001b[0m\u001b[0;34m.\u001b[0m\u001b[0madd\u001b[0m\u001b[0;34m(\u001b[0m\u001b[0mkey\u001b[0m\u001b[0;34m)\u001b[0m\u001b[0;34m\u001b[0m\u001b[0;34m\u001b[0m\u001b[0m\n\u001b[1;32m    467\u001b[0m             \u001b[0;32mtry\u001b[0m\u001b[0;34m:\u001b[0m\u001b[0;34m\u001b[0m\u001b[0;34m\u001b[0m\u001b[0m\n\u001b[0;32m--> 468\u001b[0;31m                 \u001b[0;32mreturn\u001b[0m \u001b[0mf\u001b[0m\u001b[0;34m(\u001b[0m\u001b[0mself\u001b[0m\u001b[0;34m,\u001b[0m \u001b[0;34m*\u001b[0m\u001b[0margs\u001b[0m\u001b[0;34m,\u001b[0m \u001b[0;34m**\u001b[0m\u001b[0mkwargs\u001b[0m\u001b[0;34m)\u001b[0m\u001b[0;34m\u001b[0m\u001b[0;34m\u001b[0m\u001b[0m\n\u001b[0m\u001b[1;32m    469\u001b[0m             \u001b[0;32mfinally\u001b[0m\u001b[0;34m:\u001b[0m\u001b[0;34m\u001b[0m\u001b[0;34m\u001b[0m\u001b[0m\n\u001b[1;32m    470\u001b[0m                 \u001b[0mrepr_running\u001b[0m\u001b[0;34m.\u001b[0m\u001b[0mdiscard\u001b[0m\u001b[0;34m(\u001b[0m\u001b[0mkey\u001b[0m\u001b[0;34m)\u001b[0m\u001b[0;34m\u001b[0m\u001b[0;34m\u001b[0m\u001b[0m\n",
      "\u001b[0;32m/Library/Frameworks/Python.framework/Versions/3.8/lib/python3.8/site-packages/numpy/core/arrayprint.py\u001b[0m in \u001b[0;36m_array2string\u001b[0;34m(a, options, separator, prefix)\u001b[0m\n\u001b[1;32m    499\u001b[0m     \u001b[0mnext_line_prefix\u001b[0m \u001b[0;34m+=\u001b[0m \u001b[0;34m\" \"\u001b[0m\u001b[0;34m*\u001b[0m\u001b[0mlen\u001b[0m\u001b[0;34m(\u001b[0m\u001b[0mprefix\u001b[0m\u001b[0;34m)\u001b[0m\u001b[0;34m\u001b[0m\u001b[0;34m\u001b[0m\u001b[0m\n\u001b[1;32m    500\u001b[0m \u001b[0;34m\u001b[0m\u001b[0m\n\u001b[0;32m--> 501\u001b[0;31m     lst = _formatArray(a, format_function, options['linewidth'],\n\u001b[0m\u001b[1;32m    502\u001b[0m                        \u001b[0mnext_line_prefix\u001b[0m\u001b[0;34m,\u001b[0m \u001b[0mseparator\u001b[0m\u001b[0;34m,\u001b[0m \u001b[0moptions\u001b[0m\u001b[0;34m[\u001b[0m\u001b[0;34m'edgeitems'\u001b[0m\u001b[0;34m]\u001b[0m\u001b[0;34m,\u001b[0m\u001b[0;34m\u001b[0m\u001b[0;34m\u001b[0m\u001b[0m\n\u001b[1;32m    503\u001b[0m                        summary_insert, options['legacy'])\n",
      "\u001b[0;32m/Library/Frameworks/Python.framework/Versions/3.8/lib/python3.8/site-packages/numpy/core/arrayprint.py\u001b[0m in \u001b[0;36m_formatArray\u001b[0;34m(a, format_function, line_width, next_line_prefix, separator, edge_items, summary_insert, legacy)\u001b[0m\n\u001b[1;32m    823\u001b[0m         \u001b[0;31m# requires gc to collect (gh-10620). To avoid this problem, for\u001b[0m\u001b[0;34m\u001b[0m\u001b[0;34m\u001b[0m\u001b[0;34m\u001b[0m\u001b[0m\n\u001b[1;32m    824\u001b[0m         \u001b[0;31m# performance and PyPy friendliness, we break the cycle:\u001b[0m\u001b[0;34m\u001b[0m\u001b[0;34m\u001b[0m\u001b[0;34m\u001b[0m\u001b[0m\n\u001b[0;32m--> 825\u001b[0;31m         \u001b[0mrecurser\u001b[0m \u001b[0;34m=\u001b[0m \u001b[0;32mNone\u001b[0m\u001b[0;34m\u001b[0m\u001b[0;34m\u001b[0m\u001b[0m\n\u001b[0m\u001b[1;32m    826\u001b[0m \u001b[0;34m\u001b[0m\u001b[0m\n\u001b[1;32m    827\u001b[0m \u001b[0;32mdef\u001b[0m \u001b[0m_none_or_positive_arg\u001b[0m\u001b[0;34m(\u001b[0m\u001b[0mx\u001b[0m\u001b[0;34m,\u001b[0m \u001b[0mname\u001b[0m\u001b[0;34m)\u001b[0m\u001b[0;34m:\u001b[0m\u001b[0;34m\u001b[0m\u001b[0;34m\u001b[0m\u001b[0m\n",
      "\u001b[0;31mKeyboardInterrupt\u001b[0m: "
     ]
    }
   ],
   "source": [
    "j.playGame(display=True)"
   ]
  },
  {
   "cell_type": "markdown",
   "metadata": {},
   "source": [
    "###### "
   ]
  }
 ],
 "metadata": {
  "kernelspec": {
   "display_name": "Python 3",
   "language": "python",
   "name": "python3"
  },
  "language_info": {
   "codemirror_mode": {
    "name": "ipython",
    "version": 3
   },
   "file_extension": ".py",
   "mimetype": "text/x-python",
   "name": "python",
   "nbconvert_exporter": "python",
   "pygments_lexer": "ipython3",
   "version": "3.8.6"
  }
 },
 "nbformat": 4,
 "nbformat_minor": 4
}
